{
 "cells": [
  {
   "cell_type": "markdown",
   "metadata": {
    "id": "nWAP42l0C3en"
   },
   "source": [
    "---\n",
    "title: \"Permutation and Combination\"\n",
    "date: \"2022-07-27\"\n",
    "categories: [Probabity and Statisctics]\n",
    "image: featured.png\n",
    "---\n"
   ]
  },
  {
   "cell_type": "markdown",
   "metadata": {},
   "source": [
    "## Overview\n",
    "\n",
    "The study of permutations and combinations is concerned with determining the number\n",
    "of different ways of arranging and selecting objects out of a given number of objects,\n",
    "without actually listing them. There are some basic counting techniques which will be\n",
    "useful in determining the number of different ways of arranging or selecting objects.\n",
    "The two basic counting principles are given below:"
   ]
  },
  {
   "cell_type": "markdown",
   "metadata": {},
   "source": [
    "## Fundamental principle of counting\n",
    "\n",
    "**1.1 Multiplication principle (Fundamental Principle of Counting)**\n",
    "\n",
    "Suppose an event E can occur in m different ways and associated with each way of\n",
    "occurring of E, another event F can occur in n different ways, then the total number of\n",
    "occurrence of the two events in the given order is m × n .\n",
    "\n",
    "**1.2 Addition principle**\n",
    "If an event E can occur in m ways and another event F can occur in n ways, and\n",
    "suppose that both can not occur together, then E or F can occur in m + n ways.\n",
    "\n",
    "**1.3 Permutations A permutation is an arrangement of objects in a definite order.**\n",
    "\n",
    "**1.4 Permutation of n different objects**: The number of permutations of n objects\n",
    "taken all at a time, denoted by the symbol $ ^nP_n $\n",
    ", is given by\n",
    "\n",
    "where $ {n!} $ = n(n – 1) (n – 2) ... 3.2.1, read as factorial n, or n factorial.\n",
    "\n",
    "The number of permutations of n objects taken r at a time, where 0 < r ≤ n,\n",
    "denoted by $ ^nP_r $\n",
    ", is given by\n",
    "\n",
    "$$ ^nP_r = \\frac{n!}{(n-r)!} $$\n",
    "\n",
    "where:  \n",
    "- $ n $ is the number of elements in the set.  \n",
    "- $ r $ is the number of elements taken together.\n",
    "\n",
    "\n",
    "**1.5 When repetition of objects is allowed** The number of permutations of n things\n",
    "taken all at a time, when repetion of objects is allowed is nn.\n",
    "The number of permutations of n objects, taken r at a time, when repetition of\n",
    "objects is allowed, is nr.\n",
    "\n",
    "**1.6 Permutations when the objects are not distinct** The number of permutations\n",
    "of n objects of which p1\n",
    " are of one kind, p2\n",
    " are of second kind, ..., pk\n",
    " are of k\n",
    "th kind and\n",
    "the rest if any, are of different kinds is\n",
    "$$ \\frac{n!}{(p1!*p2!*p3!..p)!} $$\n",
    "\n",
    "**1.7 Combination** On many occasions we are not interested in arranging but only\n",
    "in selecting r objects from given n objects. A combination is a selection of some or all\n",
    "of a number of different objects where the order of selection is immaterial.\n",
    "The formula for calculating the number of combinations from $ n $ elements taken $ r $ at a time is given by:\n",
    "$$^n C_r = \\frac{n!}{(n-r)! r!}$$"
   ]
  },
  {
   "cell_type": "markdown",
   "metadata": {
    "id": "wO-hsVKwC3er"
   },
   "source": [
    "Let's explore some examples to better understand these concepts."
   ]
  },
  {
   "cell_type": "markdown",
   "metadata": {},
   "source": [
    "## Permutation and Combination in Python\n",
    "These methods can be found in itertools package."
   ]
  },
  {
   "cell_type": "markdown",
   "metadata": {},
   "source": [
    "**Permutation**\n",
    "\n",
    "First import itertools package to implement the permutations method in python. \n",
    "This method takes a list as an input and returns an object list of tuples that contain all permutations in a list form. "
   ]
  },
  {
   "cell_type": "markdown",
   "metadata": {},
   "source": [
    "**Example:**\n",
    "\n",
    "**Permutation taking 2 elements together from a set of 3 elements:**\n",
    "\n",
    "$$ ^3P_2 = \\frac{3!}{(3-2)!} = \\frac{3!}{1!} = \\frac{6}{1} = 6 $$\n",
    "\n",
    "**Permutation taking 3 elements together from a set of 3 elements:**\n",
    "\n",
    "$$ ^3P_3 = \\frac{3!}{(3-3)!} = \\frac{3!}{0!} = \\frac{6}{1} = 6 $$"
   ]
  },
  {
   "cell_type": "code",
   "execution_count": 4,
   "metadata": {
    "id": "VQcNkxNOC3es"
   },
   "outputs": [
    {
     "name": "stdout",
     "output_type": "stream",
     "text": [
      "('B', 'A')\n",
      "('B', 'C')\n",
      "('A', 'B')\n",
      "('A', 'C')\n",
      "('C', 'B')\n",
      "('C', 'A')\n"
     ]
    }
   ],
   "source": [
    "# import permutations using itertools package\n",
    "from itertools import permutations \n",
    "\n",
    "char_set = {'A', 'B', 'C'} # define a charater set of 3 elements\n",
    "\n",
    "permutations1 = permutations(char_set, 2) # permutations taking two elements\n",
    "\n",
    "for i in permutations1:\n",
    "    print(i)"
   ]
  },
  {
   "cell_type": "code",
   "execution_count": 5,
   "metadata": {
    "colab": {
     "base_uri": "https://localhost:8080/"
    },
    "id": "TO6cDX02FQnJ",
    "outputId": "6cf57180-1338-460b-c044-554fc22e5e9f"
   },
   "outputs": [
    {
     "name": "stdout",
     "output_type": "stream",
     "text": [
      "('B', 'A', 'C')\n",
      "('B', 'C', 'A')\n",
      "('A', 'B', 'C')\n",
      "('A', 'C', 'B')\n",
      "('C', 'B', 'A')\n",
      "('C', 'A', 'B')\n"
     ]
    }
   ],
   "source": [
    "permutations2 = permutations(char_set, 3) # permutations by taking two elements\n",
    "for i in permutations2:\n",
    "    print(i)"
   ]
  },
  {
   "cell_type": "markdown",
   "metadata": {},
   "source": [
    "Now, let's take a look at combinations"
   ]
  },
  {
   "cell_type": "code",
   "execution_count": 6,
   "metadata": {
    "colab": {
     "base_uri": "https://localhost:8080/"
    },
    "id": "vjmrhsluC3ey",
    "outputId": "1202466c-0d9d-4418-e6b8-45b90dbadba3"
   },
   "outputs": [
    {
     "name": "stdout",
     "output_type": "stream",
     "text": [
      "('B', 'A')\n",
      "('B', 'C')\n",
      "('A', 'C')\n"
     ]
    }
   ],
   "source": [
    "# import permutations using itertools package\n",
    "from itertools import combinations \n",
    "\n",
    "combination1 = combinations(char_set, 2) # combination taking two elements\n",
    "for i in combination1:\n",
    "    print(i)"
   ]
  },
  {
   "cell_type": "code",
   "execution_count": 7,
   "metadata": {
    "colab": {
     "base_uri": "https://localhost:8080/"
    },
    "id": "SYO9HIj8C3ew",
    "outputId": "3d3bf569-3411-41d0-a9a9-55d503168d2a"
   },
   "outputs": [
    {
     "name": "stdout",
     "output_type": "stream",
     "text": [
      "('B', 'A', 'C')\n"
     ]
    }
   ],
   "source": [
    "combination2 = combinations(char_set, 3) # combination taking three elements\n",
    "for i in combination2: \n",
    "    print(i)"
   ]
  },
  {
   "cell_type": "markdown",
   "metadata": {
    "id": "eqjVrwFyC3ez"
   },
   "source": [
    "In addition to these, itertools provides two more functions:\n",
    "\n",
    "- **Combinations with Replacement**: This function generates all possible combinations of $ r $ elements from a given iterable, allowing elements to be selected multiple times. It's useful when repetitions are allowed in the selection process.\n",
    "\n",
    "- **Product**: This function computes the Cartesian product of input iterables. It generates all possible combinations where each element from one iterable is combined with every element from other iterables. It's beneficial for creating all possible combinations of multiple sets of elements."
   ]
  },
  {
   "cell_type": "code",
   "execution_count": null,
   "metadata": {
    "colab": {
     "base_uri": "https://localhost:8080/"
    },
    "id": "1czZRTC_C3e0",
    "outputId": "83164b64-70d0-41c0-a244-cdefd295680f"
   },
   "outputs": [
    {
     "name": "stdout",
     "output_type": "stream",
     "text": [
      "('B', 'B')\n",
      "('B', 'C')\n",
      "('B', 'A')\n",
      "('C', 'C')\n",
      "('C', 'A')\n",
      "('A', 'A')\n"
     ]
    }
   ],
   "source": [
    "from itertools import combinations_with_replacement \n",
    "\n",
    "combination_with_replacement = combinations_with_replacement(char_set, 2) #combination taking two elements with replacement\n",
    "for i in combination_with_replacement:\n",
    "    print(i)"
   ]
  },
  {
   "cell_type": "code",
   "execution_count": 8,
   "metadata": {
    "colab": {
     "base_uri": "https://localhost:8080/"
    },
    "id": "QKeNbHWjC3e0",
    "outputId": "8363c139-daf4-4784-ff7f-2f72d3580287"
   },
   "outputs": [
    {
     "name": "stdout",
     "output_type": "stream",
     "text": [
      "('B', 'B')\n",
      "('B', 'A')\n",
      "('B', 'C')\n",
      "('A', 'B')\n",
      "('A', 'A')\n",
      "('A', 'C')\n",
      "('C', 'B')\n",
      "('C', 'A')\n",
      "('C', 'C')\n"
     ]
    }
   ],
   "source": [
    "from itertools import product\n",
    "\n",
    "product_with_replacement = product(char_set, repeat=2) #product taking two elements with replacement\n",
    "for i in product_with_replacement:\n",
    "    print(i)"
   ]
  },
  {
   "cell_type": "code",
   "execution_count": null,
   "metadata": {
    "id": "U5K1Bqt2C3e1"
   },
   "outputs": [],
   "source": []
  }
 ],
 "metadata": {
  "colab": {
   "collapsed_sections": [],
   "name": "01. Permutation and Combinations.ipynb",
   "provenance": []
  },
  "kernelspec": {
   "display_name": "ml-env",
   "language": "python",
   "name": "python3"
  },
  "language_info": {
   "codemirror_mode": {
    "name": "ipython",
    "version": 3
   },
   "file_extension": ".py",
   "mimetype": "text/x-python",
   "name": "python",
   "nbconvert_exporter": "python",
   "pygments_lexer": "ipython3",
   "version": "3.12.0"
  }
 },
 "nbformat": 4,
 "nbformat_minor": 4
}
