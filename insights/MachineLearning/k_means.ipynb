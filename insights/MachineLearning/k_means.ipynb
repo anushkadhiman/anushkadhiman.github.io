{
 "cells": [
  {
   "cell_type": "markdown",
   "id": "d6714d86",
   "metadata": {},
   "source": [
    "---\n",
    "title: \"K Mean implementation from scratch with Python\"\n",
    "date: \"2025-01-18\"\n",
    "author: Anushka Dhiman\n",
    "categories: [Machine Learning]\n",
    "---\n",
    "___"
   ]
  },
  {
   "attachments": {},
   "cell_type": "markdown",
   "id": "109c1cfe",
   "metadata": {},
   "source": [
    "## What is K-means clustering?\n",
    "\n",
    "K-means clustering is a popular unsupervised machine learning algorithm used for grouping similar data points into k - clusters. \n",
    "\n",
    "The goal here is to partition a given dataset into k (predefined) clusters.\n",
    "\n",
    "The k-means algorithm works by first randomly initializing k cluster centers, one for each cluster. Each data point in the dataset is then assigned to the nearest cluster center based on their distance. The distance metric used is typically Euclidean distance, but other distance measures such as Manhattan distance or cosine similarity can also be used.\n",
    "\n",
    "After all the data points have been assigned to a cluster, the algorithm calculates the new mean for each cluster by taking the average of all the data points assigned to that cluster. These new means become the new cluster centers. The algorithm then repeats the assignment and mean calculation steps until the cluster assignments no longer change or until a maximum number of iterations is reached.\n",
    "\n",
    "The final output of the k-means algorithm is a set of k clusters, where each cluster contains the data points that are most similar to each other based on the distance metric used. The algorithm is commonly used in various fields such as image segmentation, market segmentation, and customer profiling.\n",
    "\n",
    "[<img src=\"kmean.png\" alt=\"kmean\" style=\"display: block; margin: auto; \" width=\"700\"/>](../insights/StatisticsandProbability/MachineLearning/kmean.png) \n"
   ]
  },
  {
   "attachments": {},
   "cell_type": "markdown",
   "id": "36cafa73",
   "metadata": {},
   "source": [
    "## Code Implementation \n",
    "Here's an implementation of k-means clustering algorithm in Python from scratch:\n",
    "\n",
    "**Key Concepts:**\n",
    "- Centroids: The central point of each cluster.\n",
    "- Euclidean Distance: The distance measure used to calculate the proximity of data points to the centroids.\n",
    "- Convergence: The process of the centroids stabilizing, indicating that the clustering has been achieved."
   ]
  },
  {
   "cell_type": "code",
   "execution_count": 1,
   "id": "ab3cb277",
   "metadata": {},
   "outputs": [],
   "source": [
    "import numpy as np\n",
    "\n",
    "class KMeans:\n",
    "    def __init__(self, k, max_iterations=100):\n",
    "        self.k = k\n",
    "        self.max_iterations = max_iterations\n",
    "        \n",
    "    def fit(self, X):\n",
    "        # Initialize centroids randomly\n",
    "        self.centroids = X[np.random.choice(range(len(X)), self.k, replace=False)]\n",
    "\n",
    "        # Iterative Process: The algorithm runs for a maximum number of iterations (max_iterations)\n",
    "        for i in range(self.max_iterations):\n",
    "            # Assign each data point to the nearest centroid\n",
    "            cluster_assignments = []\n",
    "            for j in range(len(X)):\n",
    "                distances = np.linalg.norm(X[j] - self.centroids, axis=1) # compute the Euclidean distance to all centroids and assign the data point to the centroid that is closest.\n",
    "                cluster_assignments.append(np.argmin(distances)) # \n",
    "            \n",
    "            # Update centroids\n",
    "            for k in range(self.k):\n",
    "                cluster_data_points = X[np.where(np.array(cluster_assignments) == k)]\n",
    "                if len(cluster_data_points) > 0:\n",
    "                    self.centroids[k] = np.mean(cluster_data_points, axis=0)\n",
    "            \n",
    "            # Check for convergence\n",
    "            # If the centroids stop changing (i.e., the current centroids are equal to the previous centroids), the algorithm terminates early as it has converged. \n",
    "            if i > 0 and np.array_equal(self.centroids, previous_centroids):\n",
    "                break\n",
    "            \n",
    "            # Update previous centroids\n",
    "            previous_centroids = np.copy(self.centroids)\n",
    "        \n",
    "        # Store the final cluster assignments\n",
    "        self.cluster_assignments = cluster_assignments\n",
    "    \n",
    "    def predict(self, X):\n",
    "        # Assign each data point to the nearest centroid\n",
    "        cluster_assignments = []\n",
    "        for j in range(len(X)):\n",
    "            distances = np.linalg.norm(X[j] - self.centroids, axis=1) # Compute the distance from each point to the centroids using Euclidean distance\n",
    "            cluster_assignments.append(np.argmin(distances)) # Assign each new data point to the closest centroid\n",
    "        \n",
    "        return cluster_assignments"
   ]
  },
  {
   "cell_type": "markdown",
   "id": "b5ecc69d",
   "metadata": {},
   "source": [
    "Let's test our code,\n",
    "\n",
    "Here is an example of how you would use the KMeans class to fit the model and make predictions:"
   ]
  },
  {
   "cell_type": "code",
   "execution_count": 3,
   "id": "ec82294c",
   "metadata": {},
   "outputs": [
    {
     "name": "stdout",
     "output_type": "stream",
     "text": [
      "Final Centroids:\n",
      " [[2 3]\n",
      " [2 0]]\n",
      "Cluster Assignments: [0, 0, 1, 0, 0, 1]\n"
     ]
    }
   ],
   "source": [
    "import numpy as np\n",
    "import matplotlib.pyplot as plt\n",
    "\n",
    "# Create some sample data (2D points)\n",
    "X = np.array([[1, 2], [1, 4], [1, 0], [4, 2], [4, 4], [4, 0]])\n",
    "\n",
    "# Initialize the KMeans class with k=2 clusters\n",
    "kmeans = KMeans(k=2)\n",
    "\n",
    "# Fit the model to the data\n",
    "kmeans.fit(X)\n",
    "\n",
    "# Print the final centroids\n",
    "print(\"Final Centroids:\\n\", kmeans.centroids)\n",
    "\n",
    "# Make predictions on the same data\n",
    "predictions = kmeans.predict(X)\n",
    "print(\"Cluster Assignments:\", predictions)"
   ]
  },
  {
   "cell_type": "markdown",
   "id": "80ac640a",
   "metadata": {},
   "source": [
    "## Visualization"
   ]
  },
  {
   "cell_type": "code",
   "execution_count": 4,
   "id": "cd8051fb",
   "metadata": {},
   "outputs": [
    {
     "data": {
      "image/png": "[encoded data removed]",
      "text/plain": [
       "<Figure size 640x480 with 1 Axes>"
      ]
     },
     "metadata": {},
     "output_type": "display_data"
    }
   ],
   "source": [
    "\n",
    "\n",
    "# Visualize the clusters and centroids\n",
    "plt.scatter(X[:, 0], X[:, 1], c=predictions, cmap='viridis')\n",
    "plt.scatter(kmeans.centroids[:, 0], kmeans.centroids[:, 1], s=200, c='red', marker='X')  # Plot centroids\n",
    "plt.title('K-Means Clustering')\n",
    "plt.show()\n"
   ]
  },
  {
   "cell_type": "markdown",
   "id": "940ddc5e",
   "metadata": {},
   "source": [
    "Let's break down this example,\n",
    "\n",
    "- Data: The array X contains six 2D data points. These are the points that we want to cluster into two groups.\n",
    "- Model Initialization: We initialize the KMeans object with k=2 (meaning we want two clusters).\n",
    "- Fitting: We then fit the model to the data with the fit method, which will iteratively find two clusters and update the centroids.\n",
    "- Predictions: The predict method is used to assign each data point to one of the two clusters.\n",
    "- Visualization: We plot the data points and the final centroids (shown as red 'X' markers) to visually confirm that the KMeans algorithm has correctly clustered the data."
   ]
  },
  {
   "cell_type": "markdown",
   "id": "e3f3f881",
   "metadata": {},
   "source": [
    "## K-Mean Algorithm Optimization\n",
    "\n",
    "Here are some ways to optimize the k-means clustering algorithm:\n",
    "\n",
    "Random initialization of centroids: Instead of initializing the centroids using the first k data points, we can randomly initialize them to improve the convergence of the algorithm. This can be done by selecting k random data points from the input dataset as the initial centroids.\n",
    "\n",
    "Early stopping: We can stop the k-means algorithm if the cluster assignments and centroids do not change after a certain number of iterations. This helps to avoid unnecessary computation.\n",
    "\n",
    "Here's an optimized version of the k-means clustering algorithm that implements these optimizations:"
   ]
  },
  {
   "cell_type": "code",
   "execution_count": 5,
   "id": "121e7b70",
   "metadata": {},
   "outputs": [],
   "source": [
    "import numpy as np\n",
    "\n",
    "class KMeans:\n",
    "    def __init__(self, k=3, max_iters=100, tol=1e-4):\n",
    "        self.k = k\n",
    "        self.max_iters = max_iters\n",
    "        self.tol = tol\n",
    "    \n",
    "    def fit(self, X):\n",
    "        # Initialize centroids randomly\n",
    "        self.centroids = X[np.random.choice(X.shape[0], self.k, replace=False)]\n",
    "        \n",
    "        # Iterate until convergence or maximum number of iterations is reached\n",
    "        for i in range(self.max_iters):\n",
    "            # Assign each data point to the closest centroid\n",
    "            distances = np.linalg.norm(X[:, np.newaxis] - self.centroids, axis=2)\n",
    "            cluster_assignments = np.argmin(distances, axis=1)\n",
    "            \n",
    "            # Update the centroids based on the new cluster assignments\n",
    "            new_centroids = np.array([np.mean(X[np.where(cluster_assignments == j)], axis=0) \n",
    "                                      for j in range(self.k)])\n",
    "            \n",
    "            # Check for convergence\n",
    "            if np.linalg.norm(new_centroids - self.centroids) < self.tol:\n",
    "                break\n",
    "                \n",
    "            self.centroids = new_centroids\n",
    "    \n",
    "    def predict(self, X):\n",
    "        # Assign each data point to the closest centroid\n",
    "        distances = np.linalg.norm(X[:, np.newaxis] - self.centroids, axis=2)\n",
    "        cluster_assignments = np.argmin(distances, axis=1)\n",
    "        \n",
    "        return cluster_assignments\n"
   ]
  },
  {
   "cell_type": "code",
   "execution_count": 6,
   "id": "1cc3a710",
   "metadata": {},
   "outputs": [
    {
     "data": {
      "image/png": "[encoded data removed]",
      "text/plain": [
       "<Figure size 640x480 with 1 Axes>"
      ]
     },
     "metadata": {},
     "output_type": "display_data"
    }
   ],
   "source": [
    "import numpy as np\n",
    "import matplotlib.pyplot as plt\n",
    "\n",
    "# Sample data (2D)\n",
    "X = np.array([[1, 2], [1, 4], [1, 0], [4, 2], [4, 4], [4, 0]])\n",
    "\n",
    "# Initialize KMeans with 2 clusters\n",
    "kmeans = KMeans(k=2)\n",
    "\n",
    "# Train the model\n",
    "kmeans.fit(X)\n",
    "\n",
    "# Get the cluster assignments for the data points\n",
    "cluster_assignments = kmeans.predict(X)\n",
    "\n",
    "# Plot the data points, colored by their cluster assignment\n",
    "plt.scatter(X[:, 0], X[:, 1], c=cluster_assignments, cmap='viridis')\n",
    "\n",
    "# Plot the centroids\n",
    "plt.scatter(kmeans.centroids[:, 0], kmeans.centroids[:, 1], c='red', marker='X', s=200)\n",
    "\n",
    "plt.show()\n"
   ]
  },
  {
   "cell_type": "markdown",
   "id": "a756163a",
   "metadata": {},
   "source": [
    "In the example above:\n",
    "\n",
    "- Data points are plotted with colors corresponding to their assigned clusters.\n",
    "- Centroids are marked with red \"X\" symbols, showing the final positions of the centroids after training."
   ]
  },
  {
   "cell_type": "markdown",
   "id": "bbf61e82",
   "metadata": {},
   "source": []
  }
 ],
 "metadata": {
  "kernelspec": {
   "display_name": "ml-env",
   "language": "python",
   "name": "python3"
  },
  "language_info": {
   "codemirror_mode": {
    "name": "ipython",
    "version": 3
   },
   "file_extension": ".py",
   "mimetype": "text/x-python",
   "name": "python",
   "nbconvert_exporter": "python",
   "pygments_lexer": "ipython3",
   "version": "3.12.0"
  }
 },
 "nbformat": 4,
 "nbformat_minor": 5
}
