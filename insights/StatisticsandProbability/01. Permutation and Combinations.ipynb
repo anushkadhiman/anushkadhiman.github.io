{
 "cells": [
  {
   "cell_type": "markdown",
   "metadata": {
    "id": "nWAP42l0C3en"
   },
   "source": [
    "---\n",
    "title: \"Permutation and Combination\"\n",
    "date: \"2025-01-07\"\n",
    "author: Anushka Dhiman\n",
    "categories: [Probabity and Statisctics]\n",
    "image: permandcomb.jpg\n",
    "---\n"
   ]
  },
  {
   "cell_type": "markdown",
   "metadata": {},
   "source": [
    "## Overview\n",
    "\n",
    "The study of permutations and combinations is concerned with determining the number\n",
    "of different ways of arranging and selecting objects out of a given number of objects,\n",
    "without actually listing them. There are some basic counting techniques which will be\n",
    "useful in determining the number of different ways of arranging or selecting objects.\n",
    "The two basic counting principles are given below:"
   ]
  },
  {
   "cell_type": "markdown",
   "metadata": {},
   "source": [
    "## Fundamental principle of counting\n",
    "\n",
    "### Multiplication principle\n",
    "\n",
    "Suppose an event E can occur in m different ways and associated with each way of\n",
    "occurring of E, another event F can occur in n different ways, then the total number of\n",
    "occurrence of the two events in the given order is m × n .\n",
    "\n",
    "For example, if you roll a six-sided dice and a two sided coin, then there are 6 × 2 = 12 possible outcomes. \n",
    "\n",
    "Therefore, this principle can be use in everyday life when you need to calculate the number of possibilities that exist when combining choices. "
   ]
  },
  {
   "cell_type": "code",
   "execution_count": 9,
   "metadata": {},
   "outputs": [
    {
     "name": "stdout",
     "output_type": "stream",
     "text": [
      "Total number of possible combinations: 12\n"
     ]
    }
   ],
   "source": [
    "# The total number of possible combinations (dice, coin) can be calculated using the fundamental principle of counting.\n",
    "\n",
    "# Number of choices for dice and coin\n",
    "dice_choices = 6 # 1, 2, 3, 4, 5, 6\n",
    "coin_choices = 2  # H, T\n",
    "\n",
    "# Total combinations using the Multiplication Principle of Counting\n",
    "total_combinations = dice_choices * coin_choices\n",
    "\n",
    "print(f\"Total number of possible combinations: {total_combinations}\")"
   ]
  },
  {
   "cell_type": "markdown",
   "metadata": {},
   "source": [
    "\n",
    "### Addition principle\n",
    "If an event E can occur in m ways and another event F can occur in n ways, and\n",
    "suppose that both can not occur together, then E or F can occur in m + n ways."
   ]
  },
  {
   "cell_type": "code",
   "execution_count": 10,
   "metadata": {},
   "outputs": [
    {
     "name": "stdout",
     "output_type": "stream",
     "text": [
      "Total number of possible combinations: 8\n"
     ]
    }
   ],
   "source": [
    "# The total number of possible combinations (dice, coin) can be calculated using addition principle of counting.\n",
    "\n",
    "# Number of choices for dice and coin\n",
    "dice_choices = 6 # 1, 2, 3, 4, 5, 6\n",
    "coin_choices = 2  # H, T\n",
    "\n",
    "# Total combinations using the Addition Principle of Counting\n",
    "total_combinations = dice_choices + coin_choices\n",
    "\n",
    "print(f\"Total number of possible combinations: {total_combinations}\")"
   ]
  },
  {
   "cell_type": "markdown",
   "metadata": {},
   "source": [
    "## Permutations \n",
    "\n",
    "A permutation is an arrangement of objects in a definite order.\n",
    "\n",
    "### Permutation of n different objects: \n",
    "\n",
    "The number of permutations of n objects\n",
    "taken all at a time, denoted by the symbol **$^nP_n$**\n",
    ", is given by\n",
    "\n",
    "where **${n!}$** = n(n – 1) (n – 2) ... 3.2.1, read as factorial n, or n factorial.\n",
    "\n",
    "There are basically two types of permutation:\n",
    "\n",
    "### When repetition of objects is allowed\n",
    "\n",
    "In this case, you can finds all possible arrangements of a set of objects. And here, the order of the objects is important.\n",
    "\n",
    "The number of permutations of n things\n",
    "taken all at a time, when repetion of objects is allowed is **$n^n$**.\n",
    "\n",
    "The number of permutations of n objects, taken r at a time, when repetition of\n",
    "objects is allowed, is **$n^r$**.\n",
    "\n",
    "\n",
    "### When repetition of objects is not allowed\n",
    "\n",
    "In this case, you cannot select the same item multiple times while arranging a set of items. Essentially, each item can only be used once in the arrangement, meaning the number of available choices decreases with each selection made. \n",
    "\n",
    "The number of permutations of n objects taken r at a time, where 0 < r ≤ n,\n",
    "denoted by **$^nP_r$**\n",
    ", is given by\n",
    "\n",
    "**$$ ^nP_r = \\frac{n!}{(n-r)!} $$**\n",
    "\n",
    "where:  \n",
    "- **$n$** is the number of elements in the set.  \n",
    "- **$r$** is the number of elements taken together.\n",
    "\n",
    "\n",
    "### Permutations when the objects are not distinct: they are identical\n",
    "\n",
    "In this case, when objects are identical, many arrangements will appear the same, so you need to divide by the number of ways to arrange the identical objects among themselves. \n",
    "\n",
    "The number of permutations\n",
    "of n objects of which r1\n",
    " are of one kind, r2\n",
    " are of second kind, ..., rk\n",
    " are of kth kind and\n",
    "the rest if any, are of different kinds is\n",
    "\n",
    "**$$ \\frac{n!}{(r1!*r2!*r3!..rk)!} $$**\n",
    "\n"
   ]
  },
  {
   "cell_type": "markdown",
   "metadata": {},
   "source": [
    "## Combinations \n",
    "\n",
    "This method is used to calculate the total number of outcomes when order doesn't matter. Essentially, we are not interested in arranging rather\n",
    "in selecting r objects from given n objects. \n"
   ]
  },
  {
   "cell_type": "markdown",
   "metadata": {},
   "source": [
    "There are also two types of combinations:\n",
    "\n",
    "### Combinations without Repetition\n",
    "\n",
    "In this case, you can only select each item once when choosing a group from a set. For instance, picking lottery numbers, where each number drawn cannot be repeated. \n",
    "\n",
    "The formula for calculating the number of combinations from **$n$** elements taken **$r$** at a time is given by:\n",
    "\n",
    "**$$^n C_r = \\frac{n!}{(n-r)! r!}$$**\n",
    "\n",
    "### Combinations with Repetition\n",
    "\n",
    "In this case, when selecting items from a set, you can choose the same item multiple times. For instance, selecting flavors for ice cream cones, where you could choose two scoops of chocolate. \n",
    "\n",
    "If we choose a set of r items from n types of items, where repetition is allowed and the number items we are choosing from is essentially unlimited, the number of selections possible is given by:\n",
    "\n",
    "**$$^n C_r = \\frac{(r+n-1)!}{(n-1)! r!}$$**\n"
   ]
  },
  {
   "cell_type": "markdown",
   "metadata": {
    "id": "wO-hsVKwC3er"
   },
   "source": [
    "Let's explore some examples to better understand these concepts."
   ]
  },
  {
   "cell_type": "markdown",
   "metadata": {},
   "source": [
    "## Permutation and Combination in Python\n",
    "These methods can be found in itertools package."
   ]
  },
  {
   "cell_type": "markdown",
   "metadata": {},
   "source": [
    "### **Permutation**\n",
    "\n",
    "We can use itertools module to generate permutations of objects efficiently. Here’s how to use itertools for the three types of permutations that we've discussed lately:"
   ]
  },
  {
   "cell_type": "markdown",
   "metadata": {},
   "source": [
    "**1. Permutations of 𝑛 Different Objects (No Repetition)**\n",
    "\n",
    "For a set of 𝑛 distinct objects, itertools.permutations() can generate all possible permutations of those objects. This is for the case where you want to arrange all n different objects without repetition."
   ]
  },
  {
   "cell_type": "code",
   "execution_count": 3,
   "metadata": {},
   "outputs": [
    {
     "name": "stdout",
     "output_type": "stream",
     "text": [
      "Permutations of distinct objects: [('A', 'B', 'C'), ('A', 'C', 'B'), ('B', 'A', 'C'), ('B', 'C', 'A'), ('C', 'A', 'B'), ('C', 'B', 'A')]\n",
      "Total number of permutations: 6\n"
     ]
    }
   ],
   "source": [
    "import itertools\n",
    "\n",
    "# List of distinct objects\n",
    "objects = ['A', 'B', 'C']\n",
    "\n",
    "# Generate all permutations of the objects\n",
    "permutations = list(itertools.permutations(objects))\n",
    "\n",
    "# Output the permutations and the total number of permutations\n",
    "print(\"Permutations of distinct objects:\", permutations)\n",
    "print(\"Total number of permutations:\", len(permutations))"
   ]
  },
  {
   "cell_type": "markdown",
   "metadata": {},
   "source": [
    "**2. Permutations When Repetition of Objects is Allowed**\n",
    "\n",
    "In this case, itertools.product() can be used to simulate the scenario where repetition is allowed. The result will generate all possible combinations where the same object can appear multiple times."
   ]
  },
  {
   "cell_type": "code",
   "execution_count": 5,
   "metadata": {},
   "outputs": [
    {
     "name": "stdout",
     "output_type": "stream",
     "text": [
      "Permutations with repetition allowed: [('A', 'A'), ('A', 'B'), ('A', 'C'), ('B', 'A'), ('B', 'B'), ('B', 'C'), ('C', 'A'), ('C', 'B'), ('C', 'C')]\n",
      "Total number of permutations: 9\n"
     ]
    }
   ],
   "source": [
    "# Generate all permutations of length 2, allowing repetition\n",
    "permutations_with_repetition = list(itertools.product(objects, repeat=2))\n",
    "\n",
    "# Output the permutations and the total number of permutations\n",
    "print(\"Permutations with repetition allowed:\", permutations_with_repetition)\n",
    "print(\"Total number of permutations:\", len(permutations_with_repetition))"
   ]
  },
  {
   "cell_type": "markdown",
   "metadata": {},
   "source": [
    "**If you want to generate permutations for selecting and arranging a specific number of elements from a set.**\n",
    "\n",
    "Permutaion taking 2 elements together from a set of 3 elements:\n",
    "\n",
    "$$ ^3P_2 = \\frac{3!}{(3-2)!} = \\frac{3!}{1!} = \\frac{6}{1} = 6 $$\n",
    "\n",
    "Permutation taking 3 elements together from a set of 3 elements:\n",
    "\n",
    "$$ ^3P_3 = \\frac{3!}{(3-3)!} = \\frac{3!}{0!} = \\frac{6}{0} = 6 $$"
   ]
  },
  {
   "cell_type": "code",
   "execution_count": 15,
   "metadata": {},
   "outputs": [
    {
     "name": "stdout",
     "output_type": "stream",
     "text": [
      "Permutations of 2 elements from 3 elements: [('A', 'B'), ('A', 'C'), ('B', 'A'), ('B', 'C'), ('C', 'A'), ('C', 'B')]\n",
      "Permutations of 3 elements from 3 elements: [('A', 'B', 'C'), ('A', 'C', 'B'), ('B', 'A', 'C'), ('B', 'C', 'A'), ('C', 'A', 'B'), ('C', 'B', 'A')]\n"
     ]
    }
   ],
   "source": [
    "char_set = ['A', 'B', 'C'] # define a charater set of 3 elements\n",
    "\n",
    "permutations1 = list(itertools.permutations(char_set, 2)) # permutations taking two elements\n",
    "permutations2 = list(itertools.permutations(char_set, 3)) # permutations taking three elements\n",
    "\n",
    "# Output the permutations taking two elements and taking three elements\n",
    "print(\"Permutations of 2 elements from 3 elements:\", permutations1)\n",
    "print(\"Permutations of 3 elements from 3 elements:\", permutations2)"
   ]
  },
  {
   "cell_type": "markdown",
   "metadata": {},
   "source": [
    "**3. Permutations When the Objects are Not Distinct**\n",
    "\n",
    "For permutations with non-distinct objects, itertools.permutations will still generate all permutations, but you need to account for repeated objects manually by removing duplicates after generating the permutations."
   ]
  },
  {
   "cell_type": "code",
   "execution_count": 6,
   "metadata": {},
   "outputs": [
    {
     "name": "stdout",
     "output_type": "stream",
     "text": [
      "Distinct permutations of non-distinct objects: {('B', 'A', 'A'), ('A', 'B', 'A'), ('A', 'A', 'B')}\n",
      "Total number of distinct permutations: 3\n"
     ]
    }
   ],
   "source": [
    "import itertools\n",
    "\n",
    "# List of objects, some of which are repeated\n",
    "objects = ['A', 'A', 'B']\n",
    "\n",
    "# Generate all permutations and remove duplicates by converting to a set\n",
    "distinct_permutations = set(itertools.permutations(objects))\n",
    "\n",
    "# Output the distinct permutations and the total number of distinct permutations\n",
    "print(\"Distinct permutations of non-distinct objects:\", distinct_permutations)\n",
    "print(\"Total number of distinct permutations:\", len(distinct_permutations))"
   ]
  },
  {
   "cell_type": "markdown",
   "metadata": {},
   "source": [
    "Now, let's take a look at combinations\n",
    "\n",
    "**Combinations without Repetition**\n",
    "\n",
    "Combination taking 2 elements together from a set of 3 elements:\n",
    "\n",
    "$$ ^3C_2 = \\frac{3!}{(3-2)!2!} = \\frac{3!}{1!*2!} = \\frac{6}{2} = 3 $$\n",
    "\n",
    "Combination taking 3 elements together from a set of 3 elements:\n",
    "\n",
    "$$ ^3C_3 = \\frac{3!}{(3-3)!3!} = \\frac{3!}{0!*3!} = \\frac{6}{6} = 1 $$"
   ]
  },
  {
   "cell_type": "code",
   "execution_count": 17,
   "metadata": {
    "colab": {
     "base_uri": "https://localhost:8080/"
    },
    "id": "vjmrhsluC3ey",
    "outputId": "1202466c-0d9d-4418-e6b8-45b90dbadba3"
   },
   "outputs": [
    {
     "name": "stdout",
     "output_type": "stream",
     "text": [
      "Combinations of 2 elements from 3 elements: [('A', 'B'), ('A', 'C'), ('B', 'C')]\n",
      "Total number of combinations of 2 elements from 3 elements: 3\n"
     ]
    }
   ],
   "source": [
    "# import combinations using itertools package\n",
    "from itertools import combinations \n",
    "\n",
    "combination1 = list(combinations(char_set, 2)) # combination taking two elements\n",
    "\n",
    "# Output the combination taking two elements and the total number of combinations\n",
    "print(\"Combinations of 2 elements from 3 elements:\", combination1)\n",
    "print(\"Total number of combinations of 2 elements from 3 elements:\", len(combination1))"
   ]
  },
  {
   "cell_type": "code",
   "execution_count": 19,
   "metadata": {
    "colab": {
     "base_uri": "https://localhost:8080/"
    },
    "id": "SYO9HIj8C3ew",
    "outputId": "3d3bf569-3411-41d0-a9a9-55d503168d2a"
   },
   "outputs": [
    {
     "name": "stdout",
     "output_type": "stream",
     "text": [
      "Combinations of 2 elements from 3 elements: [('A', 'B', 'C')]\n",
      "Total number of combinations of 3 elements from 3 elements: 1\n"
     ]
    }
   ],
   "source": [
    "combination2 = list(combinations(char_set, 3)) # combination taking three elements\n",
    "\n",
    "# Output the combination taking three elements and the total number of combinations\n",
    "print(\"Combinations of 2 elements from 3 elements:\", combination2)\n",
    "print(\"Total number of combinations of 3 elements from 3 elements:\", len(combination2))"
   ]
  },
  {
   "cell_type": "markdown",
   "metadata": {
    "id": "eqjVrwFyC3ez"
   },
   "source": [
    "**Combinations with Repetiton** \n",
    "\n",
    "This function generates all possible combinations of **$r$** elements from a given iterable, allowing elements to be selected multiple times. It's useful when repetitions are allowed in the selection process.\n",
    "\n",
    "Combination taking 2 elements together from a set of 3 elements:\n",
    "\n",
    "$$ ^3C_2 = \\frac{(2+3-1)!}{(3-1)!*2!} = \\frac{4!}{2!*2!} = \\frac{24}{2*2} = 6 $$\n",
    "\n",
    "Combination taking 3 elements together from a set of 3 elements:\n",
    "\n",
    "$$ ^3C_3 = \\frac{(3+3-1)!}{(3-1)!*3!} = \\frac{5!}{2!*3!} = \\frac{120}{2*6} = 10 $$"
   ]
  },
  {
   "cell_type": "code",
   "execution_count": null,
   "metadata": {
    "colab": {
     "base_uri": "https://localhost:8080/"
    },
    "id": "1czZRTC_C3e0",
    "outputId": "83164b64-70d0-41c0-a244-cdefd295680f"
   },
   "outputs": [
    {
     "name": "stdout",
     "output_type": "stream",
     "text": [
      "Combinations of 2 elements from 3 elements: [('A', 'A'), ('A', 'B'), ('A', 'C'), ('B', 'B'), ('B', 'C'), ('C', 'C')]\n",
      "Total number of combinations of 3 elements from 3 elements: 6\n"
     ]
    }
   ],
   "source": [
    "from itertools import combinations_with_replacement \n",
    "\n",
    "combination_with_replacement1 = list(combinations_with_replacement(char_set, 2)) #combination taking two elements with replacement\n",
    "\n",
    "# Output the combination taking three elements and the total number of combinations\n",
    "print(\"Combinations of 2 elements from 3 elements:\", combination_with_replacement1)\n",
    "print(\"Total number of combinations of 2 elements from 3 elements:\", len(combination_with_replacement1))"
   ]
  },
  {
   "cell_type": "code",
   "execution_count": null,
   "metadata": {
    "id": "U5K1Bqt2C3e1"
   },
   "outputs": [
    {
     "name": "stdout",
     "output_type": "stream",
     "text": [
      "Combinations of 3 elements from 3 elements: [('A', 'A', 'A'), ('A', 'A', 'B'), ('A', 'A', 'C'), ('A', 'B', 'B'), ('A', 'B', 'C'), ('A', 'C', 'C'), ('B', 'B', 'B'), ('B', 'B', 'C'), ('B', 'C', 'C'), ('C', 'C', 'C')]\n",
      "Total number of combinations of 3 elements from 3 elements: 10\n"
     ]
    }
   ],
   "source": [
    "combination_with_replacement2 = list(combinations_with_replacement(char_set, 3)) #combination taking three elements with replacement\n",
    "\n",
    "# Output the combination taking three elements and the total number of combinations\n",
    "print(\"Combinations of 3 elements from 3 elements:\", combination_with_replacement2)\n",
    "print(\"Total number of combinations of 3 elements from 3 elements:\", len(combination_with_replacement2))"
   ]
  },
  {
   "cell_type": "markdown",
   "metadata": {},
   "source": [
    "## Conclusion\n",
    "\n",
    "This article explores combinatorics, specifically permutations and combinations, implementing it using python. It provides mathematical theory and python implementation in solving broader problems.\n",
    "\n",
    "Permutations and Combinations have been crucial in fields ranging from cryptography to the optimization of AI algorithms. \n",
    "\n",
    "For instance, in machine learning is feature selection in model training. \n",
    "\n",
    "* Permutations:  It can be used to generate different sets of features to test their performance, optimizing the model’s accuracy.\n",
    "\n",
    "* Combinations: It can be used to determine the number of ways features can be selected from a larger set, helping in reducing model complexity and improving interpretability.\n",
    "\n",
    "\n",
    "*I’d love any feedback you may have. Feel free to reach out and follow SOTA Insights for more such articles!*"
   ]
  },
  {
   "cell_type": "code",
   "execution_count": null,
   "metadata": {},
   "outputs": [],
   "source": []
  }
 ],
 "metadata": {
  "colab": {
   "collapsed_sections": [],
   "name": "01. Permutation and Combinations.ipynb",
   "provenance": []
  },
  "kernelspec": {
   "display_name": "ml-env",
   "language": "python",
   "name": "python3"
  },
  "language_info": {
   "codemirror_mode": {
    "name": "ipython",
    "version": 3
   },
   "file_extension": ".py",
   "mimetype": "text/x-python",
   "name": "python",
   "nbconvert_exporter": "python",
   "pygments_lexer": "ipython3",
   "version": "3.12.0"
  }
 },
 "nbformat": 4,
 "nbformat_minor": 4
}
