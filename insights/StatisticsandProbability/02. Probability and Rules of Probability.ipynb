{
 "cells": [
  {
   "cell_type": "markdown",
   "metadata": {
    "id": "75tuxa_BKLEX"
   },
   "source": [
    "---\n",
    "title: \"Probability\"\n",
    "date: \"2022-07-27\"\n",
    "categories: [Probabity and Statisctics]\n",
    "image: featured.png\n",
    "---"
   ]
  },
  {
   "cell_type": "markdown",
   "metadata": {},
   "source": [
    "## Overview\n",
    "\n",
    "Probability is defined as a quantitative measure of uncertainty – a numerical value that\n",
    "conveys the strength of our belief in the occurrence of an event. \n",
    "\n",
    "The probability of an event is always a number between 0 and 1 both 0 and 1 inclusive. \n",
    "\n",
    "If an event’s probability\n",
    "is nearer to 1, the higher is the likelihood that the event will occur; the closer the event’s\n",
    "probability to 0, the smaller is the likelihood that the event will occur. \n",
    "\n",
    "If the event\n",
    "cannot occur, its probability is 0. If it must occur (i.e., its occurrence is certain), its\n",
    "probability is 1.\n"
   ]
  },
  {
   "cell_type": "markdown",
   "metadata": {},
   "source": [
    "**1.1 Random experiment**\n",
    "\n",
    "An experiment is random means that the experiment\n",
    "has more than one possible outcome and it is not possible to predict with certainty\n",
    "which outcome that will be. For instance, in an experiment of tossing an ordinary coin,\n",
    "it can be predicted with certainty that the coin will land either heads up or tails up, but\n",
    "it is not known for sure whether heads or tails will occur. If a die is thrown once, any of\n",
    "the six numbers, i.e., 1, 2, 3, 4, 5, 6 may turn up, not sure which number will come up.\n",
    "\n",
    "**(i) Outcome A** possible result of a random experiment is called its outcome for\n",
    "example if the experiment consists of tossing a coin twice, some of the outcomes\n",
    "are HH, HT etc.\n",
    "\n",
    "**(ii) Sample Space A** sample space is the set of all possible outcomes of an\n",
    "experiment. In fact, it is the universal set S pertinent to a given experiment.\n",
    "The sample space for the experiment of tossing a coin twice is given by\n",
    "S = {HH, HT, TH, TT}\n",
    "\n",
    "The sample space for the experiment of drawing a card out of a deck is the set of all\n",
    "cards in the deck.\n"
   ]
  },
  {
   "cell_type": "markdown",
   "metadata": {},
   "source": [
    "**1.2 Event** \n",
    "\n",
    "An event is a subset of a sample space S. For example, the event of\n",
    "drawing an ace from a deck is\n",
    "A = {Ace of Heart, Ace of Club, Ace of Diamond, Ace of Spade}"
   ]
  },
  {
   "cell_type": "markdown",
   "metadata": {},
   "source": [
    "**1.3 Types of events**\n",
    "\n",
    "**(i) Impossible and Sure Events** The empty set φ and the sample space S describe\n",
    "events. In fact φ is called an impossible event and S, i.e., the whole sample\n",
    "space is called a sure event.\n",
    "\n",
    "**(ii) Simple or Elementary Event** If an event E has only one sample point of a\n",
    "sample space, i.e., a single outcome of an experiment, it is called a simple or\n",
    "elementary event. The sample space of the experiment of tossing two coins is\n",
    "given by\n",
    "S = {HH, HT, TH, TT}\n",
    "The event E1\n",
    " = {HH} containing a single outcome HH of the sample space S is\n",
    "a simple or elementary event. If one card is drawn from a well shuffled deck,\n",
    "any particular card drawn like ‘queen of Hearts’ is an elementary event.\n",
    "\n",
    "\n",
    "**(iii) Compound Event** If an event has more than one sample point it is called a\n",
    "compound event, for example, S = {HH, HT} is a compound event.\n",
    "\n",
    "**(iv) Complementary event** Given an event A, the complement of A is the event\n",
    "consisting of all sample space outcomes that do not correspond to the occurrence\n",
    "of A.\n",
    "\n",
    "The complement of A is denoted by A′ or A . It is also called the event ‘not A’. Further\n",
    "P( A ) denotes the probability that A will not occur.\n",
    "A′ = A = S – A = {w : w ∈ S and w ∉A}\n"
   ]
  },
  {
   "cell_type": "markdown",
   "metadata": {},
   "source": [
    "**1.4 Event ‘A or B’ ** \n",
    "\n",
    "If A and B are two events associated with same sample space,\n",
    "then the event ‘A or B’ is same as the event A ∪ B and contains all those elements\n",
    "which are either in A or in B or in both. Further more, P (A∪B) denotes the probability\n",
    "that A or B (or both) will occur.\n",
    "\n",
    "**1.5 Event ‘A and B’** If A and B are two events associated with a sample space,\n",
    "then the event ‘A and B’ is same as the event A∩ B and contains all those elements which\n",
    "are common to both A and B. Further more, P (A ∩ B) denotes the probability that both\n",
    "A and B will simultaneously occur.\n",
    "\n",
    "**1.6 The Event ‘A but not B’ (Difference A – B)**\n",
    "An event A – B is the set of all\n",
    "those elements of the same space S which are in A but not in B, i.e., A – B = A ∩ B′.\n",
    "\n",
    "**1.7 Mutually exclusive** Two events A and B of a sample space S are mutually\n",
    "exclusive if the occurrence of any one of them excludes the occurrence of the other\n",
    "event. Hence, the two events A and B cannot occur simultaneously, and thus P(A∩B) = 0.\n",
    "\n",
    "**Remark** Simple or elementary events of a sample space are always mutually exclusive.\n",
    "For example, the elementary events {1}, {2}, {3}, {4}, {5} or {6} of the experiment of\n",
    "throwing a dice are mutually exclusive.\n",
    "\n",
    "Consider the experiment of throwing a die once.\n",
    "\n",
    "The events E = getting a even number and F = getting an odd number are mutually\n",
    "exclusive events because E ∩ F = φ.\n",
    "\n",
    "Note For a given sample space, there may be two or more mutually exclusive events.\n",
    "\n",
    "**1.8 Exhaustive events** If E1\n",
    ", E2\n",
    ", ..., En\n",
    " are n events of a sample space S and if\n",
    "\n",
    " are called exhaustive events.\n",
    "In other words, events E1\n",
    ", E2\n",
    ", ..., En\n",
    " of a sample space S are said to be exhaustive if\n",
    "atleast one of them necessarily occur whenever the experiment is performed.\n",
    "Consider the example of rolling a die. We have S = {1, 2, 3, 4, 5, 6}. Define the two\n",
    "events A : ‘a number less than or equal to 4 appears.’\n",
    "B : ‘a number greater than or equal to 4 appears.’\n",
    "Now A : {1, 2, 3, 4}, B = {4, 5, 6}\n",
    "A ∪ B = {1, 2, 3, 4, 5, 6} = S\n",
    "Such events A and B are called exhaustive events."
   ]
  },
  {
   "cell_type": "markdown",
   "metadata": {},
   "source": [
    "Simple or Elementary Event If an event E has only one sample point of a\n",
    "sample space, i.e., a single outcome of an experiment, it is called a simple or\n",
    "elementary event. The sample space of the experiment of tossing two coins is\n",
    "given by\n",
    "S = {HH, HT, TH, TT}\n",
    "The event E1\n",
    " = {HH} containing a single outcome HH of the sample space S is\n",
    "a simple or elementary event. If one card is drawn from a well shuffled deck,\n",
    "any particular card drawn like ‘queen of Hearts’ is an elementary event.\n",
    "(iii) Compound Event If an event has more than one sample point it is called a\n",
    "compound event, for example, S = {HH, HT} is a compound event.\n",
    "(iv) Complementary event Given an event A, the complement of A is the event\n",
    "consisting of all sample space outcomes that do not correspond to the occurrence\n",
    "of A.\n"
   ]
  },
  {
   "cell_type": "markdown",
   "metadata": {},
   "source": []
  },
  {
   "cell_type": "markdown",
   "metadata": {},
   "source": []
  },
  {
   "cell_type": "markdown",
   "metadata": {},
   "source": []
  },
  {
   "cell_type": "markdown",
   "metadata": {},
   "source": []
  },
  {
   "cell_type": "markdown",
   "metadata": {
    "id": "8xI_XGaIKLEc"
   },
   "source": [
    "### Understanding Fundamental Concepts in Probability\n",
    "\n",
    "Before delving into the intricacies of probability, it's essential to grasp some fundamental terms and definitions associated with it.\n",
    "\n",
    "#### Random Experiment:\n",
    "A random experiment is characterized by its unpredictable outcomes when repeated under identical conditions. Examples include rolling a die or tossing an unbiased coin.\n",
    "\n",
    "#### Outcome:\n",
    "An outcome refers to the result obtained from a single trial of an experiment.\n",
    "\n",
    "#### Sample Space:\n",
    "The sample space represents a comprehensive list encompassing all potential outcomes of an experiment. For instance, in the case of tossing a coin, the sample space would be $\\{Heads, Tails\\}$, while for rolling a die, it would consist of $\\{1, 2, 3, 4, 5, 6\\}$.\n",
    "\n",
    "#### Event:\n",
    "An event denotes a subset of the sample space and can comprise either a single outcome or a combination of outcomes. For instance, obtaining at least two heads in a row when a coin is tossed four times constitutes an event. Another example could involve getting heads on a coin and rolling a six on a die simultaneously.\n",
    "\n",
    "### Probability:\n",
    "\n",
    "Probability serves as a quantifiable measure of the likelihood of an event occurring.\n",
    "\n",
    "**Note:** Events cannot be predicted with absolute certainty. Probability allows us to assess the likelihood of an event happening, ranging between 0 and 1. A probability of \"Zero\" signifies that the event is impossible, while a value of \"One\" indicates certainty.\n",
    "\n",
    "The probability of an event $A$, denoted as $P(A)$, is calculated using the formula:\n",
    "\n",
    "$$ P(A) = \\frac {n(A)}{n(S)} $$\n",
    "\n",
    "where:  \n",
    "- $P(A)$ represents the probability of event $A$ occurring.  \n",
    "- $n(A)$ denotes the number of favorable outcomes for event $A$.  \n",
    "- $n(S)$ signifies the total number of possible outcomes.\n",
    "\n",
    "**Example:**  \n",
    "The probability of rolling a number less than or equal to 2 when tossing a dieis $\\frac{2}{6} = \\frac{1}{3}$.\n"
   ]
  },
  {
   "cell_type": "markdown",
   "metadata": {},
   "source": [
    "### **Rules of Probability**\n",
    "\n",
    "Understanding the rules governing probability is crucial for accurate analysis and interpretation.\n",
    "\n",
    "+ The probability of an event can range anywhere from 0 to 1:  \n",
    "  $0 \\leq P(A) \\leq 1.$  \n",
    "  This signifies that probabilities lie within the range of certainty from impossible (0) to certain (1).\n",
    "\n",
    "+ Sum of all probabilities should add up to 1  \n",
    "  $P(A) + P(\\overline{A}) = 1.$  \n",
    "  This rule highlights that the combined probability of an event occurring and not occurring is always equal to 1.\n",
    "\n",
    "+ Complementary Rule - Probability of event A not happening:  \n",
    "  $P(\\overline{A})=1-P(A).$  \n",
    "  It indicates that the probability of an event not occurring is equal to 1 minus the probability of the event occurring.  \n",
    "\n",
    "+ Addition Rule (A and B are not necessarily disjoint) - Probability of A happening or B happening:  \n",
    "  $P(A\\cup B)=P(A)+P(B)-P(A\\cap B).$  \n",
    "  This rule calculates the probability of either event A or event B happening, accounting for the overlap if they are not mutually exclusive  \n",
    "\n",
    "+ Addition Rule (A and B are disjoint) - Probability of A happening or B happening:  \n",
    "  $P(A\\cup B)=P(A)+P(B).$  \n",
    "  This rule simplifies the addition of probabilities when events A and B are mutually exclusive.  \n",
    " \n",
    "+ Multiplication Rule - Chain Rule:  \n",
    "  $P(A\\cap B)=P(A)*P(B|A)=P(B)*P(A|B).$  \n",
    "  This rule computes the joint probability of events A and B occurring, taking into account the conditional probabilities.  \n",
    "\n",
    "+ If A and B are independent events, then:  \n",
    "  $P(A\\cap B)=P(A)*P(B).$  \n",
    "  This implies that the occurrence of one event does not affect the probability of the other event.  \n",
    "\n",
    "+ $P(A\\setminus B)=P(A)-P(A\\cap B).$  \n",
    "  This rule calculates the probability of event A happening excluding the outcomes also included in event B.  \n",
    "\n",
    "+ $If A\\subset B, \\text{then}\\ P(A)\\leq P(B).$  \n",
    "  This indicates that the probability of a subset event A is always less than or equal to the probability of the superset event B.  \n",
    "\n",
    "+ $P(\\emptyset)=0. $  \n",
    "  The probability of the empty set is always zero.  "
   ]
  },
  {
   "cell_type": "markdown",
   "metadata": {
    "id": "3h0VgeSGKLEe"
   },
   "source": [
    "## **Conditional Probability**\n",
    "\n",
    "Conditional probability of event **A** given event **B** is the probability that **A** occurs given that **B** has occurred.\n",
    "\n",
    "$$P(A|B)=\\frac{P(A\\cap B)}{P(B)}\\,.$$\n",
    "\n",
    "Let's illustrate this with an example:\n",
    "\n",
    "Suppose we roll a fair die, and let event A be the outcome being an odd number (i.e., A={1,3,5}), and event B be the outcome being less than or equal to 3 (i.e., B={1,2,3}). What is the probability of A given B, $P(A|B)$?\n",
    "\n",
    "$$P(B) = \\frac{3}{6} \\quad , \\quad P(A \\cap B) = \\frac{2}{6}$$ \n",
    "\n",
    "$$P(A|B) = \\frac{2}{3}$$\n",
    "\n",
    "\n",
    "## **Law of Large Numbers**\n",
    "\n",
    "The law of large numbers asserts that as the sample size increases, the average or mean of the sample values will converge towards the expected value.\n",
    "\n",
    "This principle can be exemplified through a basic scenario of flipping a coin. With a coin having equal chances of landing heads or tails, the expected probability of it landing heads is 1/2 or 0.5 over an infinite number of flips.\n",
    "\n",
    "However, if we only flip the coin 10 times, we may observe a deviation from the expected value. For instance, the coin might land heads only 3 times out of the 10 flips, which doesn't align closely with the expected probability of 0.5. This discrepancy is due to the relatively small sample size.\n",
    "\n",
    "As the number of flips increases, say to 20 or 30 times, we would expect the proportion of heads to gradually approach 0.5. For instance, after 20 flips, we might see 9 heads, and after 30 flips, we might observe 22 heads. With a larger sample size, the observed proportion of heads tends to converge towards the expected value of 0.5.\n",
    "\n",
    "\n",
    "<center><img src=\"./data/lln.png\"/></center>"
   ]
  },
  {
   "cell_type": "code",
   "execution_count": null,
   "metadata": {},
   "outputs": [],
   "source": []
  }
 ],
 "metadata": {
  "colab": {
   "name": "02. Probability and Rules of Probability.ipynb",
   "provenance": []
  },
  "kernelspec": {
   "display_name": "Python 3 (ipykernel)",
   "language": "python",
   "name": "python3"
  },
  "language_info": {
   "codemirror_mode": {
    "name": "ipython",
    "version": 3
   },
   "file_extension": ".py",
   "mimetype": "text/x-python",
   "name": "python",
   "nbconvert_exporter": "python",
   "pygments_lexer": "ipython3",
   "version": "3.11.7"
  }
 },
 "nbformat": 4,
 "nbformat_minor": 4
}
