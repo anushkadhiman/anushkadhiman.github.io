{
 "cells": [
  {
   "attachments": {},
   "cell_type": "markdown",
   "metadata": {},
   "source": [
    "---\n",
    "title: \"Linear Regression implementation from scratch with Python\"\n",
    "date: \"2025-01-13\"\n",
    "author: Anushka Dhiman\n",
    "categories: [Machine Learning]\n",
    "---\n",
    "___"
   ]
  },
  {
   "cell_type": "markdown",
   "metadata": {},
   "source": [
    "## Overview\n",
    "\n",
    "Linear regression is a fundamental and powerful model for predicting numeric data from one or more independent variables. This article focuses on implementing linear regression using Python, without delving into the deeper theoretical aspects. Despite the emergence of more complex algorithms like LLM, linear regression remains widely used across various domains due to its effectiveness, interpretability, and extensibility. Understanding linear regression is crucial for building a strong foundation in machine learning, as its core concepts are applied broadly.\n",
    "\n",
    "In a similar manner, I intend to create a playlist that covers other machine learning algorithms from scratch. You can find the list of topics covered in this series."
   ]
  },
  {
   "cell_type": "markdown",
   "metadata": {},
   "source": [
    "Let's get started!"
   ]
  },
  {
   "cell_type": "markdown",
   "metadata": {},
   "source": [
    "## What is Linear regression?\n",
    "\n",
    "Linear regression is a statistical method used to model the relationship between a dependent variable (often denoted as \"y\") and one or more independent variables (often denoted as \"x\"). \n",
    "\n",
    "The goal is to find the best fitting line through the data points the minimises the prodiction error.\n",
    "\n",
    "Imagine you have a scatter plot of data points. Linear regression tries to find a straight line that best represent the relationship between the independent variable and the dependent variable.  \n",
    "\n",
    "The line is choosen to minimise the difference between the predicated value and he actual data points. The diference is called the residual error and the goal is to minimise the residual error and hence the best values for model parameters **m & c** by finding the best fit line.\n"
   ]
  },
  {
   "cell_type": "markdown",
   "metadata": {},
   "source": [
    "\n",
    "The most common form of linear regression is simple linear regression, which models the relationship between two variables:\n",
    "\n",
    "[<img src=\"lineEquation.png\" alt=\"lineEquation\" style=\"display: block; margin: auto; \" width=\"500\"/>](../insights/StatisticsandProbability/MachineLearning/lineEquation.png) "
   ]
  },
  {
   "attachments": {},
   "cell_type": "markdown",
   "metadata": {},
   "source": [
    "## Code Implementation using python\n",
    "\n",
    "### Simple linear regression \n",
    "\n",
    "Here is a basic implementation of simple linear regression in Python using the least squares method:"
   ]
  },
  {
   "cell_type": "markdown",
   "metadata": {},
   "source": [
    "> Let's break it down step by step:"
   ]
  },
  {
   "cell_type": "code",
   "execution_count": 2,
   "metadata": {},
   "outputs": [],
   "source": [
    "#Importing Libraries\n",
    "import numpy as np # library for numerical operations\n",
    "\n",
    "class LinearRegression: \n",
    "  # Creted a class named LinearRegression, defining the structure and methods needed to perform linear regression\n",
    "\n",
    "  def __init__(self):\n",
    "    self.slope = None #store the slope (m) of the line \n",
    "    self.intercept = None #store the intercept (b) of the line \n",
    "\n",
    "  def fit(self, X, y):\n",
    "    # fit method to compute the slope and intercept of the best-fit line based on the data points X and y.\n",
    "\n",
    "    n = len(X) \n",
    "\n",
    "    #calculates the mean of the X values (x_mean) and the mean of the y values (y_mean).\n",
    "\n",
    "    x_mean = np.mean(X)  \n",
    "    y_mean = np.mean(y)\n",
    "\n",
    "    #initializes two variables, numerator and denominator, to store intermediate results for calculating the slope.\n",
    "    numerator = 0 \n",
    "    denominator = 0\n",
    "\n",
    "    #loops over each data point and computes numerator and denominator\n",
    "    for i in range(n):\n",
    "        numerator += (X[i] - x_mean) * (y[i] - y_mean) # the sum of the product of the deviations X[i] and y[i] from their means\n",
    "        denominator += (X[i] - x_mean) ** 2 # the sum of the squared deviations of X[i] from the mean of X\n",
    "\n",
    "    self.slope = numerator / denominator\n",
    "    self.intercept = y_mean - self.slope * x_mean\n",
    "\n",
    "\n",
    "  def predict(self, X): #predict method makes predictions\n",
    "\n",
    "    \"\"\"For each input value x in the list X, the method computes the corresponding predicted value of y using the formula: y=mx+b\n",
    "      where m is the slope and b is the intercept, both of which were calculated during the fitting process.\"\"\"\n",
    "\n",
    "    y_pred = []\n",
    "    for x in X:\n",
    "        y_pred.append(self.slope * x + self.intercept)\n",
    "    return y_pred\n",
    "\n",
    "\n"
   ]
  },
  {
   "cell_type": "markdown",
   "metadata": {},
   "source": [
    "**Slope (m):** The slope is computed as the ratio of the numerator to the denominator. This is the formula for the slope of a simple linear regression line:\n",
    "\n",
    "$$ \\text{slope} = \\frac{\\sum(X[i] - x_{\\text{mean}})(y[i] - y_{\\text{mean}})}{\\sum(X[i] - x_{\\text{mean}})^2} $$\n",
    "\n",
    "**Intercept (b):** The intercept is computed by subtracting the product of the slope and the mean of X from the mean of y:\n",
    "\n",
    "$$ \\text{intercept} = y_{\\text{mean}} - (\\text{slope} \\times x_{\\text{mean}}) $$\n"
   ]
  },
  {
   "cell_type": "markdown",
   "metadata": {},
   "source": [
    "Let's test our code"
   ]
  },
  {
   "cell_type": "code",
   "execution_count": 7,
   "metadata": {},
   "outputs": [
    {
     "name": "stdout",
     "output_type": "stream",
     "text": [
      "[5.8, 6.4, 7.0]\n"
     ]
    }
   ],
   "source": [
    "# Example Data\n",
    "X = np.array([1, 2, 3, 4, 5])\n",
    "y = np.array([2, 4, 5, 4, 5])\n",
    "\n",
    "# Create an instance of LinearRegression\n",
    "model = LinearRegression()\n",
    "\n",
    "# Fit the model to the data\n",
    "model.fit(X, y)\n",
    "\n",
    "# Make predictions\n",
    "predictions = model.predict([6, 7, 8])\n",
    "print(predictions)\n"
   ]
  },
  {
   "cell_type": "code",
   "execution_count": 8,
   "metadata": {},
   "outputs": [
    {
     "name": "stdout",
     "output_type": "stream",
     "text": [
      "slope of the line:  0.6\n",
      "intercept of the line:  2.2\n"
     ]
    }
   ],
   "source": [
    "print(\"slope of the line: \", model.slope)\n",
    "print(\"intercept of the line: \", model.intercept)"
   ]
  },
  {
   "cell_type": "markdown",
   "metadata": {},
   "source": [
    "After fitting the model, the slope (m) and intercept (b) of the best-fit line are printed.\n",
    "\n",
    "Slope: 0.6 — This means that for each increase of 1 in X, y increases by 0.6 on average.\n",
    "\n",
    "Intercept: 2.2 — This is the predicted value of y when X is 0"
   ]
  },
  {
   "cell_type": "code",
   "execution_count": 9,
   "metadata": {},
   "outputs": [
    {
     "name": "stdout",
     "output_type": "stream",
     "text": [
      "[2.8000000000000003, 3.4000000000000004, 4.0, 4.6, 5.2]\n"
     ]
    }
   ],
   "source": [
    "y_pred = model.predict(X)\n",
    "print(y_pred)  # Output: [2.8, 3.4, 4.0, 4.6, 5.2]"
   ]
  },
  {
   "cell_type": "markdown",
   "metadata": {},
   "source": [
    "Using the calculated slope = 0.6 and intercept = 2.2, the predictions for X = [1, 2, 3, 4, 5] are:\n",
    "\n",
    "For X = 1: y = 0.6 * 1 + 2.2 = 2.8\n",
    "\n",
    "For X = 2: y = 0.6 * 2 + 2.2 = 3.4\n",
    "\n",
    "For X = 3: y = 0.6 * 3 + 2.2 = 4.0\n",
    "\n",
    "For X = 4: y = 0.6 * 4 + 2.2 = 4.6\n",
    "\n",
    "For X = 5: y = 0.6 * 5 + 2.2 = 5.2\n",
    "\n",
    "These predicted values ([2.8, 3.4, 4.0, 4.6, 5.2]) as a result."
   ]
  },
  {
   "cell_type": "markdown",
   "metadata": {},
   "source": []
  },
  {
   "cell_type": "markdown",
   "metadata": {},
   "source": [
    "### Linear Regression using the Normal Equation"
   ]
  },
  {
   "attachments": {},
   "cell_type": "markdown",
   "metadata": {},
   "source": [
    "### Model Equation\n",
    "The model is described as:\n",
    "\n",
    "$$ y = X \\cdot W $$\n",
    "\n",
    "where:\n",
    "- **X** is the matrix of input data (size \\( n \\times d \\), where \\( n \\) is the number of samples and \\( d \\) is the number of features).\n",
    "- **y** is the vector of output values (size \\( n \\times 1 \\)).\n",
    "- **W** is the vector of weights (size \\( d \\times 1 \\), including the intercept).\n",
    "\n",
    "### Normal Equation\n",
    "The weights **W** are computed using the normal equation, which provides a direct way to solve for the optimal weights:\n",
    "\n",
    "$$ W = (X^T \\cdot X)^{-1} \\cdot X^T \\cdot y $$\n",
    "\n",
    "- $ X^T $ is the transpose of **X**.\n",
    "\n",
    "- $ (X^T \\cdot X) $ is the Gram matrix.\n",
    "\n",
    "- The inverse of this matrix is calculated and multiplied by $$ (X^T \\cdot y) $$ to give the optimal weights **W**.\n"
   ]
  },
  {
   "cell_type": "code",
   "execution_count": 11,
   "metadata": {},
   "outputs": [],
   "source": [
    "import numpy as np\n",
    "\n",
    "class LinearRegression:\n",
    "    def __init__(self):\n",
    "        self.W = None #hold the weights of the regression mode\n",
    "\n",
    "    def fit(self, X, y):\n",
    "        n = X.shape[0]  # Number of samples\n",
    "        X = np.hstack([np.ones((n, 1)), X])  # Add bias term (1s) as the first column of X\n",
    "        self.W = np.linalg.inv(X.T @ X) @ X.T @ y #Normal Equation:\n",
    "\n",
    "    def predict(self, X):\n",
    "        n = X.shape[0]  # Number of samples\n",
    "        X = np.hstack([X, np.ones((n, 1))])  # Add bias term\n",
    "        return X @ self.W  # Predicted values\n",
    "    \n"
   ]
  },
  {
   "cell_type": "code",
   "execution_count": 19,
   "metadata": {},
   "outputs": [
    {
     "name": "stdout",
     "output_type": "stream",
     "text": [
      "Predictions: [35.28429975 44.49290696]\n",
      "\n",
      "The weights W are printed out, which includes:\n",
      "The first value 2.8789171100469577 is the intercept (bias term).\n",
      "The second value 1.3595104661934938 corresponds to the weight for the first feature.\n",
      "The third value 1.7100252704129753 corresponds to the weight for the second feature.\n"
     ]
    }
   ],
   "source": [
    "# Create example input data\n",
    "X = np.array([[2, 2], [4, 5], [7, 8]])\n",
    "y = np.array([9, 17, 26])\n",
    "\n",
    "# Fit linear regression model\n",
    "lr = LinearRegression()\n",
    "lr.fit(X, y)\n",
    "\n",
    "# Make predictions on new data\n",
    "X_new = np.array([[10, 11], [13, 14]])\n",
    "y_pred = lr.predict(X_new)\n",
    "\n",
    "# Print the predictions\n",
    "print(\"Predictions:\", y_pred)  # Expected output: [43.0, 55.0]\n",
    "\n",
    "# Explanation of the weights:\n",
    "print(\"\\nThe weights W are printed out, which includes:\")\n",
    "print(\"The first value\", lr.W[0], \"is the intercept (bias term).\")\n",
    "print(\"The second value\", lr.W[1], \"corresponds to the weight for the first feature.\")\n",
    "print(\"The third value\", lr.W[2], \"corresponds to the weight for the second feature.\")"
   ]
  },
  {
   "cell_type": "markdown",
   "metadata": {},
   "source": [
    "### Improvement in Linear Regression code\n",
    "\n",
    "To enhance the robustness, efficiency, scalability, and generalization ability of the linear regression model, some improvements are neccesary \n",
    "\n",
    "1. **Add Regularization (L2 Regularization)**\n",
    "\n",
    "Regularization helps prevent overfitting. L2 regularization (also known as Ridge Regression) involves adding a penalty term to the cost function that is proportional to the sum of the squared coefficients. The formula for L2 regularization is:\n",
    "\n",
    "$$ \\text{Cost Function} = \\sum(y - \\hat{y})^2 + \\lambda \\sum W^2 $$\n",
    "\n",
    "where:\n",
    "- $$\\lambda$$ (lambda) is the regularization parameter.\n",
    "- W represents the model's coefficients.\n",
    "\n",
    "To implement this, we will modify the weight update rule by adding a penalty term to the objective function.\n",
    "\n",
    "2. **Use Gradient Descent**\n",
    "Instead of solving for the weights directly using the Normal Equation (which can be computationally expensive for large datasets), we can use gradient descent to iteratively minimize the cost function. The gradient descent update rule is:\n",
    "\n",
    "$$ W = W - \\alpha \\cdot \\nabla J(W) $$\n",
    "\n",
    "where:\n",
    "- $$ \\alpha $$ is the learning rate.\n",
    "- J(W) is the cost function.\n",
    "\n",
    "We will implement a method that updates the coefficients iteratively based on the gradient of the cost function.\n",
    "\n"
   ]
  },
  {
   "cell_type": "code",
   "execution_count": 24,
   "metadata": {},
   "outputs": [],
   "source": [
    "import numpy as np\n",
    "\n",
    "class LinearRegressionGD:\n",
    "    def __init__(self, learning_rate=0.01, num_iterations=1000, lambda_reg=0):\n",
    "        \"\"\"\n",
    "        Initializes the linear regression model.\n",
    "        :param learning_rate: Learning rate for gradient descent (default: 0.01)\n",
    "        :param num_iterations: Number of iterations for gradient descent (default: 1000)\n",
    "        :param lambda_reg: Regularization parameter for L2 regularization (default: 0)\n",
    "        \"\"\"\n",
    "        self.learning_rate = learning_rate\n",
    "        self.num_iterations = num_iterations\n",
    "        self.lambda_reg = lambda_reg\n",
    "        self.W = None\n",
    "\n",
    "    def _validate_input(self, X, y):\n",
    "        \"\"\"\n",
    "        Validate input arrays X and y.\n",
    "        Ensure they have the same length and are not empty.\n",
    "        \"\"\"\n",
    "        if X.shape[0] != y.shape[0]:\n",
    "            raise ValueError(\"X and y must have the same number of samples.\")\n",
    "        if X.shape[0] == 0:\n",
    "            raise ValueError(\"Input arrays X and y cannot be empty.\")\n",
    "\n",
    "    def fit(self, X, y):\n",
    "        \"\"\"\n",
    "        Fit the model using gradient descent or the normal equation.\n",
    "        :param X: Features matrix (n x d)\n",
    "        :param y: Target vector (n x 1)\n",
    "        \"\"\"\n",
    "        # Validate inputs\n",
    "        self._validate_input(X, y)\n",
    "        \n",
    "        # Add bias term (ones column) to X\n",
    "        n = X.shape[0]\n",
    "        X = np.hstack([np.ones((n, 1)), X])\n",
    "\n",
    "        # Initialize weights\n",
    "        self.W = np.zeros(X.shape[1])\n",
    "\n",
    "        # Gradient Descent\n",
    "        for _ in range(self.num_iterations):\n",
    "            predictions = X @ self.W\n",
    "            errors = predictions - y\n",
    "            \n",
    "            # Compute gradient\n",
    "            gradient = (2/n) * X.T @ errors + (2 * self.lambda_reg * self.W)\n",
    "            \n",
    "            # Update weights\n",
    "            self.W -= self.learning_rate * gradient\n",
    "\n",
    "    def predict(self, X):\n",
    "        \"\"\"\n",
    "        Make predictions using the learned model.\n",
    "        :param X: Features matrix (n x d)\n",
    "        :return: Predicted values (n x 1)\n",
    "        \"\"\"\n",
    "        n = X.shape[0]\n",
    "        X = np.hstack([np.ones((n, 1)), X])  # Add bias term\n",
    "        return X @ self.W\n"
   ]
  },
  {
   "cell_type": "code",
   "execution_count": 25,
   "metadata": {},
   "outputs": [
    {
     "name": "stdout",
     "output_type": "stream",
     "text": [
      "Weights: [2.0109441  1.50918066 1.71595145]\n",
      "Predictions: [35.97821669 45.65361304]\n"
     ]
    }
   ],
   "source": [
    "# Example usage:\n",
    "X = np.array([[2, 2], [4, 5], [7, 8]])  # Input data\n",
    "y = np.array([9, 17, 26])  # Target data\n",
    "\n",
    "# Create model with L2 regularization (lambda_reg > 0) and gradient descent\n",
    "lr = LinearRegressionGD(learning_rate=0.01, num_iterations=1000, lambda_reg=0.1)\n",
    "\n",
    "# Fit the model to the data\n",
    "lr.fit(X, y)\n",
    "print(\"Weights:\", lr.W)\n",
    "\n",
    "# Make predictions on new data\n",
    "X_new = np.array([[10, 11], [13, 14]])\n",
    "y_pred = lr.predict(X_new)\n",
    "print(\"Predictions:\", y_pred)"
   ]
  },
  {
   "cell_type": "markdown",
   "metadata": {},
   "source": [
    "## Visualization\n",
    "\n",
    "Let's visualise it on scatter plot, giving a clear picture of how well the regression line fits the data points!"
   ]
  },
  {
   "cell_type": "code",
   "execution_count": 26,
   "metadata": {},
   "outputs": [
    {
     "data": {
      "image/png": "[encoded data removed]",
      "text/plain": [
       "<Figure size 640x480 with 1 Axes>"
      ]
     },
     "metadata": {},
     "output_type": "display_data"
    }
   ],
   "source": [
    "import matplotlib.pyplot as plt\n",
    "\n",
    "# Plotting the data and the linear regression model\n",
    "plt.scatter(X[:, 0], y, color='blue', label='Training data')\n",
    "\n",
    "# Plot the predicted values\n",
    "plt.scatter(X_new[:, 0], y_pred, color='red', label='Predictions')\n",
    "\n",
    "# Optionally, plot the regression line for the training data (assuming 2D data for visualization)\n",
    "# Generate a range of X values for the line (from the min to max of the training data)\n",
    "x_line = np.linspace(X[:, 0].min(), X[:, 0].max(), 100)\n",
    "y_line = lr.predict(np.column_stack([x_line, x_line]))  # Prediction on the line\n",
    "plt.plot(x_line, y_line, color='green', label='Regression line')\n",
    "\n",
    "# Set labels and title\n",
    "plt.xlabel('Feature 1')\n",
    "plt.ylabel('Target')\n",
    "plt.title('Linear Regression with Gradient Descent')\n",
    "plt.legend()\n",
    "\n",
    "# Show the plot\n",
    "plt.show()"
   ]
  },
  {
   "cell_type": "code",
   "execution_count": null,
   "metadata": {},
   "outputs": [],
   "source": []
  }
 ],
 "metadata": {
  "kernelspec": {
   "display_name": "ml-env",
   "language": "python",
   "name": "python3"
  },
  "language_info": {
   "codemirror_mode": {
    "name": "ipython",
    "version": 3
   },
   "file_extension": ".py",
   "mimetype": "text/x-python",
   "name": "python",
   "nbconvert_exporter": "python",
   "pygments_lexer": "ipython3",
   "version": "3.12.0"
  },
  "orig_nbformat": 4
 },
 "nbformat": 4,
 "nbformat_minor": 2
}
